{
 "cells": [
  {
   "cell_type": "code",
   "execution_count": 11,
   "metadata": {},
   "outputs": [
    {
     "name": "stdout",
     "output_type": "stream",
     "text": [
      "              0          1        2\n",
      "0  1.606750e-08  6846.1170  0.00002\n",
      "1  3.998109e-08  1375.6500  0.00003\n",
      "2  4.797731e-08  2292.7510  0.00005\n",
      "3  8.290478e-08   663.4117  0.00006\n",
      "4  9.948574e-08   552.8430  0.00007\n",
      "0     1.606750e-08\n",
      "1     3.998109e-08\n",
      "2     4.797731e-08\n",
      "3     8.290478e-08\n",
      "4     9.948574e-08\n",
      "5     1.432595e-07\n",
      "6     2.062936e-07\n",
      "7     4.277705e-07\n",
      "8     7.391874e-07\n",
      "9     8.870249e-07\n",
      "10    1.277316e-06\n",
      "11    1.532779e-06\n",
      "12    1.839335e-06\n",
      "13    2.207202e-06\n",
      "14    2.648642e-06\n",
      "15    3.178370e-06\n",
      "16    4.576853e-06\n",
      "17    5.492224e-06\n",
      "18    6.590669e-06\n",
      "19    7.908803e-06\n",
      "20    9.490563e-06\n",
      "21    1.138868e-05\n",
      "22    1.366641e-05\n",
      "23    1.639969e-05\n",
      "24    1.967963e-05\n",
      "25    2.361556e-05\n",
      "26    2.833867e-05\n",
      "27    3.400640e-05\n",
      "28    4.080768e-05\n",
      "29    4.896922e-05\n",
      "          ...     \n",
      "68    5.997798e-02\n",
      "69    7.197357e-02\n",
      "70    8.636828e-02\n",
      "71    1.036419e-01\n",
      "72    1.243703e-01\n",
      "73    1.492444e-01\n",
      "74    1.790933e-01\n",
      "75    2.149119e-01\n",
      "76    2.578943e-01\n",
      "77    3.094732e-01\n",
      "78    3.713678e-01\n",
      "79    4.456414e-01\n",
      "80    5.347697e-01\n",
      "81    6.417236e-01\n",
      "82    7.700683e-01\n",
      "83    9.240820e-01\n",
      "84    1.108898e+00\n",
      "85    1.330678e+00\n",
      "86    1.596814e+00\n",
      "87    1.916176e+00\n",
      "88    2.299412e+00\n",
      "89    2.759294e+00\n",
      "90    3.311153e+00\n",
      "91    3.973383e+00\n",
      "92    4.768060e+00\n",
      "93    5.721672e+00\n",
      "94    6.866006e+00\n",
      "95    8.239208e+00\n",
      "96    9.887049e+00\n",
      "97    1.186446e+01\n",
      "Name: 0, Length: 98, dtype: float64\n"
     ]
    },
    {
     "data": {
      
      "text/plain": [
       "<Figure size 432x288 with 1 Axes>"
      ]
     },
     "metadata": {
      "needs_background": "light"
     },
     "output_type": "display_data"
    }
   ],
   "source": [
    "import matplotlib.pyplot as plt \n",
    "import pandas as pd\n",
    "dataFrame1 = pd.read_csv(\"wktime.T001.his\", delimiter = \" \", header = None)\n",
    "print(dataFrame1.head())\n",
    "plt.plot(dataFrame1[0],dataFrame1[1], color = 'r', marker = 'o', label = \"wktime1\")\n",
    "##list_ = dataFrame1[0]\n",
    "print(list)\n",
    "dataFrame2 = pd.read_csv(\"wktime.T004.his\", delimiter = \" \", header = None)\n",
    "plt.plot(dataFrame2[0],dataFrame2[1], color = 'b', marker = 'o', label = \"wktime4\")\n",
    "plt.legend()\n",
    "plt.xlabel(\"W\")\n",
    "plt.ylabel(\"Pobability distribution\")\n",
    "plt.xscale(\"log\") ##sirve para poder ver con zoom\n",
    "plt.yscale(\"log\")\n",
    "plt.xlim(0.001,100)\n",
    "plt.ylim(0.00001,100)\n",
    "plt.show()\n"
   ]
  },
  {
   "cell_type": "code",
   "execution_count": null,
   "metadata": {},
   "outputs": [],
   "source": []
  }
 ],
 "metadata": {
  "kernelspec": {
   "display_name": "Python 3",
   "language": "python",
   "name": "python3"
  },
  "language_info": {
   "codemirror_mode": {
    "name": "ipython",
    "version": 3
   },
   "file_extension": ".py",
   "mimetype": "text/x-python",
   "name": "python",
   "nbconvert_exporter": "python",
   "pygments_lexer": "ipython3",
   "version": "3.7.6"
  }
 },
 "nbformat": 4,
 "nbformat_minor": 4
}
