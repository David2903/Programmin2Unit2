{
 "cells": [
  {
   "cell_type": "code",
   "execution_count": 27,
   "metadata": {},
   "outputs": [
    {
     "name": "stdout",
     "output_type": "stream",
     "text": [
      "[3, 24, 1, 29, 7] 5\n",
      "['Lunes', 'Martes', 'Miercoles', 'Juves', 'Viernes'] 5\n",
      "[20, 28, 1, 10, 33] 5\n",
      "['Lunes', 'Martes', 'Miercoles', 'Juves', 'Viernes'] 5\n"
     ]
    },
    {
     "data": {
      "text/plain": [
       "<function matplotlib.pyplot.show(*args, **kw)>"
      ]
     },
     "execution_count": 27,
     "metadata": {},
     "output_type": "execute_result"
    },
    {
     "data": {
     : [
       "<Figure size 432x288 with 1 Axes>"
      ]
     },
     "metadata": {
      "needs_background": "light"
     },
     "output_type": "display_data"
    }
   ],
   "source": [
    "import matplotlib.pyplot as plt\n",
    "import numpy as np\n",
    "import random  as rd ##Biblioteca para numeros random\n",
    "dias_de_semana = [\"Lunes\",\"Martes\",\"Miercoles\",\"Juves\",\"Viernes\"]\n",
    "str_dia = \"\"\n",
    "numero = rd.randint(1,100)\n",
    "\n",
    "dias = []\n",
    "temp = []\n",
    "\n",
    "for i in range(0,5):\n",
    "    \n",
    "    temp_prom = rd.randint(0,40)\n",
    "    ##dia_aleatorio = rd.randint(0,len(dias_de_semana)-1)\n",
    "    \n",
    "    str_dia = dias_de_semana[i]\n",
    "    ##dias_de_semana.pop(dia_aleatorio)\n",
    "    \n",
    "    dias.append(str_dia)\n",
    "    temp.append(temp_prom)\n",
    "\n",
    "print(temp,len(temp))\n",
    "print(dias,len(dias))\n",
    "    \n",
    "temp_feb = []\n",
    "dias_feb= []\n",
    "\n",
    "for i in range(0,5):\n",
    "    \n",
    "    temp_prom = rd.randint(0,40)\n",
    "    str_dia = dias_de_semana[i]\n",
    "    dias_feb.append(str_dia)\n",
    "    temp_feb.append(temp_prom)\n",
    "\n",
    "print(temp_feb,len(temp_feb))\n",
    "print(dias_feb,len(dias_feb))\n",
    "\n",
    "plt.plot(dias,temp, color = 'r', marker = 'o', label = 'Temperatura Enero',)\n",
    "plt.plot(dias_feb,temp_feb, color = 'b', marker = 'X', label = 'Temperatura Febrero',)\n",
    "plt.legend()\n",
    "plt.xlabel(\"Dias de la semana\")\n",
    "plt.ylabel(\"Temperaturas\")\n",
    "plt.title(\"Temperaturas promedio\")\n",
    "plt.show "
   ]
  },
  {
   "cell_type": "code",
   "execution_count": null,
   "metadata": {},
   "outputs": [],
   "source": []
  },
  {
   "cell_type": "code",
   "execution_count": null,
   "metadata": {},
   "outputs": [],
   "source": []
  },
  {
   "cell_type": "code",
   "execution_count": null,
   "metadata": {},
   "outputs": [],
   "source": []
  },
  {
   "cell_type": "code",
   "execution_count": null,
   "metadata": {},
   "outputs": [],
   "source": []
  }
 ],
 "metadata": {
  "kernelspec": {
   "display_name": "Python 3",
   "language": "python",
   "name": "python3"
  },
  "language_info": {
   "codemirror_mode": {
    "name": "ipython",
    "version": 3
   },
   "file_extension": ".py",
   "mimetype": "text/x-python",
   "name": "python",
   "nbconvert_exporter": "python",
   "pygments_lexer": "ipython3",
   "version": "3.7.6"
  }
 },
 "nbformat": 4,
 "nbformat_minor": 4
}
